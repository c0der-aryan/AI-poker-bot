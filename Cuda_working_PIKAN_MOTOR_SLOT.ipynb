{
  "metadata": {
    "kernelspec": {
      "display_name": "Python 3",
      "name": "python3"
    },
    "language_info": {
      "name": "python",
      "version": "3.10.13",
      "mimetype": "text/x-python",
      "codemirror_mode": {
        "name": "ipython",
        "version": 3
      },
      "pygments_lexer": "ipython3",
      "nbconvert_exporter": "python",
      "file_extension": ".py"
    },
    "kaggle": {
      "accelerator": "none",
      "dataSources": [],
      "dockerImageVersionId": 30732,
      "isInternetEnabled": true,
      "language": "python",
      "sourceType": "notebook",
      "isGpuEnabled": false
    },
    "colab": {
      "provenance": [],
      "gpuType": "T4",
      "include_colab_link": true
    },
    "accelerator": "GPU"
  },
  "nbformat_minor": 0,
  "nbformat": 4,
  "cells": [
    {
      "cell_type": "markdown",
      "metadata": {
        "id": "view-in-github",
        "colab_type": "text"
      },
      "source": [
        "<a href=\"https://colab.research.google.com/github/c0der-aryan/AI-poker-bot/blob/main/Cuda_working_PIKAN_MOTOR_SLOT.ipynb\" target=\"_parent\"><img src=\"https://colab.research.google.com/assets/colab-badge.svg\" alt=\"Open In Colab\"/></a>"
      ]
    },
    {
      "cell_type": "code",
      "source": [
        "!pip install pykan"
      ],
      "metadata": {
        "execution": {
          "iopub.status.busy": "2024-06-27T10:34:55.87559Z",
          "iopub.execute_input": "2024-06-27T10:34:55.876168Z",
          "iopub.status.idle": "2024-06-27T10:35:10.402696Z",
          "shell.execute_reply.started": "2024-06-27T10:34:55.87612Z",
          "shell.execute_reply": "2024-06-27T10:35:10.401365Z"
        },
        "trusted": true,
        "id": "myr8I6HeRdEC",
        "outputId": "2ef641b2-2a66-48f9-bebd-eacfc7f7cc9f",
        "colab": {
          "base_uri": "https://localhost:8080/"
        }
      },
      "execution_count": null,
      "outputs": [
        {
          "output_type": "stream",
          "name": "stdout",
          "text": [
            "Collecting pykan\n",
            "  Downloading pykan-0.0.5-py3-none-any.whl (33 kB)\n",
            "Installing collected packages: pykan\n",
            "Successfully installed pykan-0.0.5\n"
          ]
        }
      ]
    },
    {
      "cell_type": "code",
      "source": [
        "from google.colab import drive\n",
        "drive.mount('/content/drive')\n",
        "import time"
      ],
      "metadata": {
        "colab": {
          "base_uri": "https://localhost:8080/"
        },
        "id": "FoC0tKCyWit6",
        "outputId": "a54b8c83-c5b0-4d96-e3b5-2ae89901dc13"
      },
      "execution_count": null,
      "outputs": [
        {
          "output_type": "stream",
          "name": "stdout",
          "text": [
            "Drive already mounted at /content/drive; to attempt to forcibly remount, call drive.mount(\"/content/drive\", force_remount=True).\n"
          ]
        }
      ]
    },
    {
      "cell_type": "code",
      "source": [
        "import torch\n",
        "from torch import autograd\n",
        "from torch.utils.tensorboard import SummaryWriter\n",
        "from tqdm import tqdm\n",
        "import matplotlib.pyplot as plt\n",
        "from kan import KAN, LBFGS\n",
        "import numpy as np\n",
        "device = (\"cuda\" if torch.cuda.is_available() else \"cpu\")\n",
        "print(\"Using device:\", device)"
      ],
      "metadata": {
        "execution": {
          "iopub.status.busy": "2024-06-27T10:35:10.404781Z",
          "iopub.execute_input": "2024-06-27T10:35:10.405131Z",
          "iopub.status.idle": "2024-06-27T10:35:27.933635Z",
          "shell.execute_reply.started": "2024-06-27T10:35:10.405097Z",
          "shell.execute_reply": "2024-06-27T10:35:27.932539Z"
        },
        "trusted": true,
        "id": "HAe7UrhjRdEF",
        "outputId": "530ce0f1-8372-45e8-d5dd-3a9912ca9bca",
        "colab": {
          "base_uri": "https://localhost:8080/"
        }
      },
      "execution_count": null,
      "outputs": [
        {
          "output_type": "stream",
          "name": "stdout",
          "text": [
            "Using device: cuda\n"
          ]
        }
      ]
    },
    {
      "cell_type": "code",
      "source": [
        "# mu0 = torch.tensor(4 * np.pi * 1e-7 , device=device, requires_grad=False)   # Vacuum permeability\n",
        "# mur = torch.tensor(1.0, device=device, requires_grad=False)  # Relative permeability\n",
        "# Ji = torch.tensor(250.0 , device=device, requires_grad=False) # Source term, adjust as necessary\n",
        "\n",
        "# width, height = 0.8, 1.6\n",
        "# num_points_x, num_points_y = 100, 20\n",
        "\n",
        "# x = torch.linspace(0, width, num_points_x, device=device, requires_grad=False)\n",
        "# y = torch.linspace(0, height, num_points_y, device=device, requires_grad=False)\n",
        "\n",
        "# # try to understand what is meshgrid\n",
        "\n",
        "# X, Y = torch.meshgrid(x, y, indexing='ij')\n",
        "# coordinates = torch.stack([X.flatten(), Y.flatten()], dim=1).to(device)\n",
        "# coordinates.requires_grad = True  # Ensure coordinates require grad\n",
        "\n",
        "# model = KAN(width=[2,3,3, 3],\n",
        "#             grid=5, k=10,\n",
        "#             grid_eps=1.0,\n",
        "#             noise_scale_base=0.25,\n",
        "#             device = device)\n",
        "\n",
        "# model = model.to(device)\n",
        "\n",
        "# def batch_jacobian(func, x, create_graph=False):\n",
        "#     def _func_sum(x):\n",
        "#         device = x.device\n",
        "#         return func(x).sum(dim=0).to(device)\n",
        "#     return autograd.functional.jacobian(_func_sum, x, create_graph=create_graph).permute(1, 0, 2)\n",
        "\n",
        "# def batch_hessian(func, x):\n",
        "#     device = x.device\n",
        "#     jacobian = batch_jacobian(func, x, create_graph=True).to(device)\n",
        "#     hessians = []\n",
        "#     for i in range(jacobian.size(1)):\n",
        "#         grad = autograd.grad(jacobian[:, i].sum(), x, create_graph=True, retain_graph=True)[0]\n",
        "#         hessians.append(grad.unsqueeze(1).to(device))\n",
        "#     return torch.cat(hessians, dim=1)\n",
        "\n",
        "# def motor_slot_residuals(coords):\n",
        "#     coords = coords.clone().detach().requires_grad_(True).to(device)  # Ensure coords require grad\n",
        "# #     model = model.to(device)\n",
        "#     y_pred = model(coords)\n",
        "#     grads = batch_jacobian(model, coords, create_graph=True)\n",
        "#     hessians = batch_hessian(model, coords)\n",
        "\n",
        "#     Hx, Hy, A = y_pred[:, 0], y_pred[:, 1], y_pred[:, 2]\n",
        "\n",
        "#     dHx_dx, dHx_dy = grads[:, 0, 0], grads[:, 0, 1]\n",
        "#     dHy_dx, dHy_dy = grads[:, 1, 0], grads[:, 1, 1]\n",
        "#     dA_dx, dA_dy = grads[:, 2, 0], grads[:, 2, 1]\n",
        "\n",
        "#     res1 = dHy_dx - dHx_dy - Ji\n",
        "#     res2 = mu0 * mur * Hx - dA_dy\n",
        "#     res3 = mu0 * mur * Hy + dA_dx\n",
        "\n",
        "#     # note : 1 indicates y and 0 indicates x\n",
        "#     # y = 1.6 = height for CD\n",
        "#     # y = 0 for AB\n",
        "#     # x = 0 or x = 0.8 = width for AD and BC\n",
        "\n",
        "#     CD = (coords[:, 1] == height)\n",
        "#     AB = (coords[:, 1] == 0)\n",
        "#     ADBC = (coords[:, 0] == 0) | (coords[:, 0] == width)\n",
        "\n",
        "#     A_CD = torch.mean((A[CD] - 0) ** 2)\n",
        "#     Hx_AB = torch.mean((Hx[AB] - 0) ** 2)\n",
        "#     Hy_AD_BC = torch.mean((Hy[ADBC] - 0) ** 2)\n",
        "\n",
        "#     bc_loss = A_CD + Hx_AB + Hy_AD_BC\n",
        "#     total_loss = torch.mean(res1 ** 2 + res2 ** 2 + res3 ** 2) + bc_loss\n",
        "#     return total_loss"
      ],
      "metadata": {
        "execution": {
          "iopub.status.busy": "2024-06-27T10:35:27.935623Z",
          "iopub.execute_input": "2024-06-27T10:35:27.936467Z"
        },
        "trusted": true,
        "id": "QJPNTIQXRdEG"
      },
      "execution_count": null,
      "outputs": []
    },
    {
      "cell_type": "code",
      "source": [
        "# mu0 = torch.tensor(4 * np.pi * 1e-7 , device=device, requires_grad=False)   # Vacuum permeability\n",
        "# mur = torch.tensor(1.0, device=device, requires_grad=False)  # Relative permeability\n",
        "# Ji = torch.tensor(250.0 , device=device, requires_grad=False) # Source term, adjust as necessary\n",
        "\n",
        "# width, height = 0.8, 1.6\n",
        "# num_points_x, num_points_y = 100, 20\n",
        "\n",
        "# x = torch.linspace(0, width, num_points_x, device=device, requires_grad=False)\n",
        "# y = torch.linspace(0, height, num_points_y, device=device, requires_grad=False)\n",
        "\n",
        "# # try to understand what is meshgrid\n",
        "\n",
        "# X, Y = torch.meshgrid(x, y, indexing='ij')\n",
        "# coordinates = torch.stack([X.flatten(), Y.flatten()], dim=1).to(device)\n",
        "# coordinates.requires_grad = True  # Ensure coordinates require grad\n",
        "\n",
        "# model = KAN(width=[2,3,3, 3], grid=5, k=10, grid_eps=1.0,\n",
        "#             noise_scale_base=0.25 , device = device)\n",
        "# model = model.to(device)\n",
        "\n",
        "# def batch_jacobian(func, x, create_graph=False):\n",
        "#     def _func_sum(x):\n",
        "#         return func(x).sum(dim=0)\n",
        "#     return autograd.functional.jacobian(_func_sum, x, create_graph=create_graph).permute(1, 0, 2)\n",
        "\n",
        "# def batch_hessian(func, x):\n",
        "#     jacobian = batch_jacobian(func, x, create_graph=True)\n",
        "#     hessians = []\n",
        "#     for i in range(jacobian.size(1)):\n",
        "#         grad = autograd.grad(jacobian[:, i].sum(), x, create_graph=True, retain_graph=True)[0]\n",
        "#         hessians.append(grad.unsqueeze(1))\n",
        "#     return torch.cat(hessians, dim=1)\n",
        "\n",
        "# def motor_slot_residuals(coords):\n",
        "#     coords = coords.clone().detach().requires_grad_(True).to(device)  # Ensure coords require grad\n",
        "#     y_pred = model(coords)\n",
        "#     grads = batch_jacobian(model, coords, create_graph=True)\n",
        "#     hessians = batch_hessian(model, coords)\n",
        "\n",
        "#     Hx, Hy, A = y_pred[:, 0], y_pred[:, 1], y_pred[:, 2]\n",
        "\n",
        "#     dHx_dx, dHx_dy = grads[:, 0, 0], grads[:, 0, 1]\n",
        "#     dHy_dx, dHy_dy = grads[:, 1, 0], grads[:, 1, 1]\n",
        "#     dA_dx, dA_dy = grads[:, 2, 0], grads[:, 2, 1]\n",
        "\n",
        "#     res1 = dHy_dx - dHx_dy - Ji\n",
        "#     res2 = mu0 * mur * Hx - dA_dy\n",
        "#     res3 = mu0 * mur * Hy + dA_dx\n",
        "\n",
        "#     # note : 1 indicates y and 0 indicates x\n",
        "#     # y = 1.6 = height for CD\n",
        "#     # y = 0 for AB\n",
        "#     # x = 0 or x = 0.8 = width for AD and BC\n",
        "\n",
        "#     CD = (coords[:, 1] == height)\n",
        "#     AB = (coords[:, 1] == 0)\n",
        "#     ADBC = (coords[:, 0] == 0) | (coords[:, 0] == width)\n",
        "\n",
        "#     A_CD = torch.mean((A[CD] - 0) ** 2)\n",
        "#     Hx_AB = torch.mean((Hx[AB] - 0) ** 2)\n",
        "#     Hy_AD_BC = torch.mean((Hy[ADBC] - 0) ** 2)\n",
        "\n",
        "#     bc_loss = A_CD + Hx_AB + Hy_AD_BC\n",
        "#     total_loss = torch.mean(res1 ** 2 + res2 ** 2 + res3 ** 2) + bc_loss\n",
        "#     return total_loss"
      ],
      "metadata": {
        "id": "Cu3PVlu6oMhr"
      },
      "execution_count": null,
      "outputs": []
    },
    {
      "cell_type": "code",
      "source": [
        "# !mkdir /content/drive/MyDrive/pikan_results/runs"
      ],
      "metadata": {
        "id": "s-fJrkopc2yp"
      },
      "execution_count": null,
      "outputs": []
    },
    {
      "cell_type": "code",
      "source": [
        "# # dataset = {}\n",
        "# # dataset['train_input']  = coordinates\n",
        "# # dataset['train_input'] = dataset['train_input'].to(device)\n",
        "# writer = SummaryWriter(\"/content/drive/MyDrive/pikan results/run1/runs\")\n",
        "\n",
        "# start = time.time()\n",
        "\n",
        "# def train():\n",
        "\n",
        "#     global start\n",
        "#     optimizer = LBFGS(model.parameters(), lr=1,\n",
        "#                       history_size=10, line_search_fn=\"strong_wolfe\", tolerance_grad=1e-32, tolerance_change=1e-32, tolerance_ys=1e-32)\n",
        "\n",
        "#     steps = 2000 # 20 steps are enough\n",
        "#     pbar = tqdm(range(steps), desc='Training Progress')\n",
        "\n",
        "#     for step in pbar:\n",
        "#         def closure():\n",
        "#             optimizer.zero_grad()\n",
        "#             loss = motor_slot_residuals(coordinates)\n",
        "#             loss.backward()\n",
        "#             return loss\n",
        "\n",
        "#         optimizer.step(closure)\n",
        "#         if step % 5 == 0:\n",
        "#             curr = time.time()\n",
        "#             time_taken = (curr-start)/60\n",
        "\n",
        "#             current_loss = closure().item()\n",
        "\n",
        "#             pbar.set_description(\"Step: %d | Loss: %f\" %\n",
        "#                                  (step, current_loss))\n",
        "\n",
        "#             writer.add_scalar('Loss-train', current_loss, step)\n",
        "#             writer.add_scalar('time_taken', time_taken, step)\n",
        "\n",
        "#             print(f\"\\nStep: {step} \\t Loss : {current_loss} \\t Time : {time_taken} mins\\n\")\n",
        "#             start = curr\n",
        "\n",
        "#         if step % 100 == 0 :\n",
        "#           model.save_ckpt(f'ckpt{step}',\"/content/drive/MyDrive/pikan results/run1\" )\n",
        "\n",
        "# train()\n",
        "\n",
        "# writer.close()\n"
      ],
      "metadata": {
        "id": "DrSLXMNYUI_V"
      },
      "execution_count": null,
      "outputs": []
    },
    {
      "cell_type": "code",
      "source": [
        "mu0 = torch.tensor(4 * np.pi * 1e-7 , device=device, requires_grad=False)   # Vacuum permeability\n",
        "mur = torch.tensor(1.0, device=device, requires_grad=False)  # Relative permeability\n",
        "Ji = torch.tensor(250.0 , device=device, requires_grad=False) # Source term, adjust as necessary\n",
        "\n",
        "width, height = 0.8, 1.6\n",
        "num_points_x, num_points_y = 100, 20\n",
        "\n",
        "x = torch.linspace(0, width, num_points_x, device=device, requires_grad=False)\n",
        "y = torch.linspace(0, height, num_points_y, device=device, requires_grad=False)\n",
        "\n",
        "# try to understand what is meshgrid\n",
        "\n",
        "X, Y = torch.meshgrid(x, y, indexing='ij')\n",
        "coordinates = torch.stack([X.flatten(), Y.flatten()], dim=1).to(device)\n",
        "coordinates.requires_grad = True  # Ensure coordinates require grad\n",
        "\n",
        "model = KAN(width=[2,3,3, 3], grid=5, k=10, grid_eps=1.0,\n",
        "            noise_scale_base=0.25 , device = device)\n",
        "model = model.to(device)\n",
        "\n",
        "def batch_jacobian(func, x, create_graph=False):\n",
        "    def _func_sum(x):\n",
        "        return func(x).sum(dim=0)\n",
        "    return autograd.functional.jacobian(_func_sum, x, create_graph=create_graph).permute(1, 0, 2)\n",
        "\n",
        "def batch_hessian(func, x):\n",
        "    jacobian = batch_jacobian(func, x, create_graph=True)\n",
        "    hessians = []\n",
        "    for i in range(jacobian.size(1)):\n",
        "        grad = autograd.grad(jacobian[:, i].sum(), x, create_graph=True, retain_graph=True)[0]\n",
        "        hessians.append(grad.unsqueeze(1))\n",
        "    return torch.cat(hessians, dim=1)\n",
        "\n",
        "def motor_slot_residuals(coords):\n",
        "    coords = coords.clone().detach().requires_grad_(True).to(device)  # Ensure coords require grad\n",
        "    y_pred = model(coords)\n",
        "    grads = batch_jacobian(model, coords, create_graph=True)\n",
        "    hessians = batch_hessian(model, coords)\n",
        "\n",
        "    Hx, Hy, A = y_pred[:, 0], y_pred[:, 1], y_pred[:, 2]\n",
        "\n",
        "    #     u_x, u_y = grads[:, 0, 0], grads[:, 0, 1]\n",
        "\n",
        "    dHx_dx, dHx_dy = grads[:, 0, 0], grads[:, 0, 1]\n",
        "    dHy_dx, dHy_dy = grads[:, 1, 0], grads[:, 1, 1]\n",
        "    dA_dx, dA_dy = grads[:, 2, 0], grads[:, 2, 1]\n",
        "\n",
        "#     continuity = u_x + v_y + eps * p\n",
        "#     x_momentum = u * u_x + v * u_y + (1 / rho) * p_x - nu * (u_xx + u_yy)\n",
        "#     y_momentum = u * v_x + v * v_y + (1 / rho) * p_y - nu * (v_xx + v_yy)\n",
        "\n",
        "    res1 = dHy_dx - dHx_dy - Ji\n",
        "    res2 = mu0 * mur * Hx - dA_dy\n",
        "    res3 = mu0 * mur * Hy + dA_dx\n",
        "\n",
        "    # note : 1 indicates y and 0 indicates x\n",
        "    # y = 1.6 = height for CD\n",
        "    # y = 0 for AB\n",
        "    # x = 0 or x = 0.8 = width for AD and BC\n",
        "\n",
        "    CD = (coords[:, 1] == height)\n",
        "    AB = (coords[:, 1] == 0)\n",
        "    ADBC = (coords[:, 0] == 0) | (coords[:, 0] == width)\n",
        "\n",
        "    A_CD = torch.mean((A[CD] - 0) ** 2)\n",
        "    Hx_AB = torch.mean((Hx[AB] - 0) ** 2)\n",
        "    Hy_AD_BC = torch.mean((Hy[ADBC] - 0) ** 2)\n",
        "\n",
        "    bc_loss = A_CD + Hx_AB + Hy_AD_BC\n",
        "    total_loss = torch.mean(res1 ** 2 + res2 ** 2 + res3 ** 2) + bc_loss\n",
        "    return total_loss\n",
        "\n",
        "writer = SummaryWriter(\"/content/drive/MyDrive/pikan results/run1/runs\")\n",
        "\n",
        "def train(model = model):\n",
        "    global start\n",
        "    model = model.to(device)\n",
        "    print(model.device)\n",
        "    optimizer = LBFGS(model.parameters(), lr=1,\n",
        "                      history_size=10, line_search_fn=\"strong_wolfe\", tolerance_grad=1e-32, tolerance_change=1e-32, tolerance_ys=1e-32)\n",
        "\n",
        "    steps = 2000 # 20 steps are enough\n",
        "    pbar = tqdm(range(steps), desc='Training Progress')\n",
        "\n",
        "    for step in pbar:\n",
        "      def closure():\n",
        "        optimizer.zero_grad()\n",
        "        loss = motor_slot_residuals(coordinates)\n",
        "        loss.backward()\n",
        "        return loss\n",
        "\n",
        "      optimizer.step(closure)\n",
        "      if step % 5 == 0:\n",
        "        curr = time.time()\n",
        "        time_taken = (curr-start)/60\n",
        "\n",
        "        current_loss = closure().item()\n",
        "\n",
        "        pbar.set_description(\"Step: %d | Loss: %f\" %\n",
        "                             (step, current_loss))\n",
        "\n",
        "        writer.add_scalar('Loss-train', current_loss, step)\n",
        "        writer.add_scalar('time_taken', time_taken, step)\n",
        "\n",
        "        print(f\"\\nStep: {step} \\t Loss : {current_loss} \\t Time : {time_taken} mins\\n\")\n",
        "        start = curr\n",
        "\n",
        "      if step % 100 == 0 :\n",
        "        model.save_ckpt(f'ckpt{step}',\"/content/drive/MyDrive/pikan results/run1\" )\n",
        "\n",
        "train()\n",
        "\n",
        "writer.close()\n"
      ],
      "metadata": {
        "colab": {
          "base_uri": "https://localhost:8080/",
          "height": 1000
        },
        "id": "7H88zm_OxNLV",
        "outputId": "2ebe52be-4e4c-482c-b413-2fa20a2abc28"
      },
      "execution_count": null,
      "outputs": [
        {
          "output_type": "stream",
          "name": "stdout",
          "text": [
            "cuda\n"
          ]
        },
        {
          "output_type": "stream",
          "name": "stderr",
          "text": [
            "Step: 0 | Loss: 15505.404297:   0%|          | 1/2000 [00:12<6:44:28, 12.14s/it]"
          ]
        },
        {
          "output_type": "stream",
          "name": "stdout",
          "text": [
            "\n",
            "Step: 0 \t Loss : 15505.404296875 \t Time : 9.39798347155253 mins\n",
            "\n",
            "save this model to /content/drive/MyDrive/pikan results/run1/ckpt0\n"
          ]
        },
        {
          "output_type": "stream",
          "name": "stderr",
          "text": [
            "Step: 5 | Loss: 4651.924316:   0%|          | 6/2000 [01:12<6:50:11, 12.34s/it]"
          ]
        },
        {
          "output_type": "stream",
          "name": "stdout",
          "text": [
            "\n",
            "Step: 5 \t Loss : 4651.92431640625 \t Time : 1.008639363447825 mins\n",
            "\n"
          ]
        },
        {
          "output_type": "stream",
          "name": "stderr",
          "text": [
            "Step: 10 | Loss: 13.378579:   1%|          | 11/2000 [02:10<6:20:30, 11.48s/it]"
          ]
        },
        {
          "output_type": "stream",
          "name": "stdout",
          "text": [
            "\n",
            "Step: 10 \t Loss : 13.378579139709473 \t Time : 0.9568201740582783 mins\n",
            "\n"
          ]
        },
        {
          "output_type": "stream",
          "name": "stderr",
          "text": [
            "Step: 15 | Loss: 0.216353:   1%|          | 16/2000 [03:04<5:59:17, 10.87s/it]"
          ]
        },
        {
          "output_type": "stream",
          "name": "stdout",
          "text": [
            "\n",
            "Step: 15 \t Loss : 0.2163529098033905 \t Time : 0.9058992147445679 mins\n",
            "\n"
          ]
        },
        {
          "output_type": "stream",
          "name": "stderr",
          "text": [
            "Step: 20 | Loss: 0.061151:   1%|          | 21/2000 [03:59<6:01:02, 10.95s/it]"
          ]
        },
        {
          "output_type": "stream",
          "name": "stdout",
          "text": [
            "\n",
            "Step: 20 \t Loss : 0.06115074083209038 \t Time : 0.9198016921679179 mins\n",
            "\n"
          ]
        },
        {
          "output_type": "stream",
          "name": "stderr",
          "text": [
            "Step: 25 | Loss: 0.035525:   1%|▏         | 26/2000 [04:52<5:56:17, 10.83s/it]"
          ]
        },
        {
          "output_type": "stream",
          "name": "stdout",
          "text": [
            "\n",
            "Step: 25 \t Loss : 0.035525403916835785 \t Time : 0.8796251296997071 mins\n",
            "\n"
          ]
        },
        {
          "output_type": "stream",
          "name": "stderr",
          "text": [
            "Step: 30 | Loss: 0.032219:   2%|▏         | 31/2000 [05:46<5:49:53, 10.66s/it]"
          ]
        },
        {
          "output_type": "stream",
          "name": "stdout",
          "text": [
            "\n",
            "Step: 30 \t Loss : 0.03221879154443741 \t Time : 0.8949687361717225 mins\n",
            "\n"
          ]
        },
        {
          "output_type": "stream",
          "name": "stderr",
          "text": [
            "Step: 35 | Loss: 0.023434:   2%|▏         | 36/2000 [06:39<5:52:13, 10.76s/it]"
          ]
        },
        {
          "output_type": "stream",
          "name": "stdout",
          "text": [
            "\n",
            "Step: 35 \t Loss : 0.02343377284705639 \t Time : 0.8921566883722941 mins\n",
            "\n"
          ]
        },
        {
          "output_type": "stream",
          "name": "stderr",
          "text": [
            "Step: 40 | Loss: 0.015468:   2%|▏         | 41/2000 [07:36<6:11:38, 11.38s/it]"
          ]
        },
        {
          "output_type": "stream",
          "name": "stdout",
          "text": [
            "\n",
            "Step: 40 \t Loss : 0.015468248166143894 \t Time : 0.9500931223233541 mins\n",
            "\n"
          ]
        },
        {
          "output_type": "stream",
          "name": "stderr",
          "text": [
            "Step: 45 | Loss: 0.011987:   2%|▏         | 46/2000 [08:33<6:09:33, 11.35s/it]"
          ]
        },
        {
          "output_type": "stream",
          "name": "stdout",
          "text": [
            "\n",
            "Step: 45 \t Loss : 0.011987337842583656 \t Time : 0.9421908299128214 mins\n",
            "\n"
          ]
        },
        {
          "output_type": "stream",
          "name": "stderr",
          "text": [
            "Step: 50 | Loss: 0.009137:   3%|▎         | 51/2000 [09:30<6:19:25, 11.68s/it]"
          ]
        },
        {
          "output_type": "stream",
          "name": "stdout",
          "text": [
            "\n",
            "Step: 50 \t Loss : 0.009136647917330265 \t Time : 0.9637635509173076 mins\n",
            "\n"
          ]
        },
        {
          "output_type": "stream",
          "name": "stderr",
          "text": [
            "Step: 55 | Loss: 0.008542:   3%|▎         | 56/2000 [10:29<6:35:13, 12.20s/it]"
          ]
        },
        {
          "output_type": "stream",
          "name": "stdout",
          "text": [
            "\n",
            "Step: 55 \t Loss : 0.008541716262698174 \t Time : 0.9837272564570109 mins\n",
            "\n"
          ]
        },
        {
          "output_type": "stream",
          "name": "stderr",
          "text": [
            "Step: 60 | Loss: 0.008032:   3%|▎         | 61/2000 [11:27<6:09:19, 11.43s/it]"
          ]
        },
        {
          "output_type": "stream",
          "name": "stdout",
          "text": [
            "\n",
            "Step: 60 \t Loss : 0.008032187819480896 \t Time : 0.9581771572430928 mins\n",
            "\n"
          ]
        },
        {
          "output_type": "stream",
          "name": "stderr",
          "text": [
            "Step: 65 | Loss: 0.007729:   3%|▎         | 66/2000 [12:26<6:31:56, 12.16s/it]"
          ]
        },
        {
          "output_type": "stream",
          "name": "stdout",
          "text": [
            "\n",
            "Step: 65 \t Loss : 0.0077291312627494335 \t Time : 0.9848909497261047 mins\n",
            "\n"
          ]
        },
        {
          "output_type": "stream",
          "name": "stderr",
          "text": [
            "Step: 70 | Loss: 0.007729:   4%|▎         | 71/2000 [12:43<2:34:27,  4.80s/it]"
          ]
        },
        {
          "output_type": "stream",
          "name": "stdout",
          "text": [
            "\n",
            "Step: 70 \t Loss : 0.0077291312627494335 \t Time : 0.2748490492502848 mins\n",
            "\n"
          ]
        },
        {
          "output_type": "stream",
          "name": "stderr",
          "text": [
            "Step: 75 | Loss: 0.007729:   4%|▍         | 76/2000 [13:00<1:57:44,  3.67s/it]"
          ]
        },
        {
          "output_type": "stream",
          "name": "stdout",
          "text": [
            "\n",
            "Step: 75 \t Loss : 0.0077291312627494335 \t Time : 0.28094422022501625 mins\n",
            "\n"
          ]
        },
        {
          "output_type": "stream",
          "name": "stderr",
          "text": [
            "Step: 80 | Loss: 0.007729:   4%|▍         | 81/2000 [13:17<1:56:36,  3.65s/it]"
          ]
        },
        {
          "output_type": "stream",
          "name": "stdout",
          "text": [
            "\n",
            "Step: 80 \t Loss : 0.0077291312627494335 \t Time : 0.29311308860778806 mins\n",
            "\n"
          ]
        },
        {
          "output_type": "stream",
          "name": "stderr",
          "text": [
            "Step: 85 | Loss: 0.007729:   4%|▍         | 86/2000 [13:34<1:50:38,  3.47s/it]"
          ]
        },
        {
          "output_type": "stream",
          "name": "stdout",
          "text": [
            "\n",
            "Step: 85 \t Loss : 0.0077291312627494335 \t Time : 0.2779688278834025 mins\n",
            "\n"
          ]
        },
        {
          "output_type": "stream",
          "name": "stderr",
          "text": [
            "Step: 90 | Loss: 0.007729:   5%|▍         | 91/2000 [13:51<1:58:17,  3.72s/it]"
          ]
        },
        {
          "output_type": "stream",
          "name": "stdout",
          "text": [
            "\n",
            "Step: 90 \t Loss : 0.0077291312627494335 \t Time : 0.2936369776725769 mins\n",
            "\n"
          ]
        },
        {
          "output_type": "stream",
          "name": "stderr",
          "text": [
            "Step: 95 | Loss: 0.007729:   5%|▍         | 96/2000 [14:09<1:56:27,  3.67s/it]"
          ]
        },
        {
          "output_type": "stream",
          "name": "stdout",
          "text": [
            "\n",
            "Step: 95 \t Loss : 0.0077291312627494335 \t Time : 0.29438348213831583 mins\n",
            "\n"
          ]
        },
        {
          "output_type": "stream",
          "name": "stderr",
          "text": [
            "Step: 100 | Loss: 0.007729:   5%|▌         | 101/2000 [14:26<1:51:36,  3.53s/it]"
          ]
        },
        {
          "output_type": "stream",
          "name": "stdout",
          "text": [
            "\n",
            "Step: 100 \t Loss : 0.0077291312627494335 \t Time : 0.28255602916081746 mins\n",
            "\n",
            "save this model to /content/drive/MyDrive/pikan results/run1/ckpt100\n"
          ]
        },
        {
          "output_type": "stream",
          "name": "stderr",
          "text": [
            "Step: 105 | Loss: 0.007729:   5%|▌         | 106/2000 [14:42<1:46:01,  3.36s/it]"
          ]
        },
        {
          "output_type": "stream",
          "name": "stdout",
          "text": [
            "\n",
            "Step: 105 \t Loss : 0.0077291312627494335 \t Time : 0.27293917735417683 mins\n",
            "\n"
          ]
        },
        {
          "output_type": "stream",
          "name": "stderr",
          "text": [
            "Step: 110 | Loss: 0.007729:   6%|▌         | 111/2000 [14:59<1:45:13,  3.34s/it]"
          ]
        },
        {
          "output_type": "stream",
          "name": "stdout",
          "text": [
            "\n",
            "Step: 110 \t Loss : 0.0077291312627494335 \t Time : 0.27716602087020875 mins\n",
            "\n"
          ]
        },
        {
          "output_type": "stream",
          "name": "stderr",
          "text": [
            "Step: 115 | Loss: 0.007729:   6%|▌         | 116/2000 [15:17<1:55:27,  3.68s/it]"
          ]
        },
        {
          "output_type": "stream",
          "name": "stdout",
          "text": [
            "\n",
            "Step: 115 \t Loss : 0.0077291312627494335 \t Time : 0.3012465238571167 mins\n",
            "\n"
          ]
        },
        {
          "output_type": "stream",
          "name": "stderr",
          "text": [
            "Step: 120 | Loss: 0.007729:   6%|▌         | 121/2000 [15:34<1:49:43,  3.50s/it]"
          ]
        },
        {
          "output_type": "stream",
          "name": "stdout",
          "text": [
            "\n",
            "Step: 120 \t Loss : 0.0077291312627494335 \t Time : 0.2796920657157898 mins\n",
            "\n"
          ]
        },
        {
          "output_type": "stream",
          "name": "stderr",
          "text": [
            "Step: 125 | Loss: 0.007729:   6%|▋         | 126/2000 [15:51<1:47:21,  3.44s/it]"
          ]
        },
        {
          "output_type": "stream",
          "name": "stdout",
          "text": [
            "\n",
            "Step: 125 \t Loss : 0.0077291312627494335 \t Time : 0.2818448464075724 mins\n",
            "\n"
          ]
        },
        {
          "output_type": "stream",
          "name": "stderr",
          "text": [
            "Step: 130 | Loss: 0.007729:   7%|▋         | 131/2000 [16:08<1:48:27,  3.48s/it]"
          ]
        },
        {
          "output_type": "stream",
          "name": "stdout",
          "text": [
            "\n",
            "Step: 130 \t Loss : 0.0077291312627494335 \t Time : 0.28478674093882245 mins\n",
            "\n"
          ]
        },
        {
          "output_type": "stream",
          "name": "stderr",
          "text": [
            "Step: 135 | Loss: 0.007729:   7%|▋         | 136/2000 [16:25<1:50:14,  3.55s/it]"
          ]
        },
        {
          "output_type": "stream",
          "name": "stdout",
          "text": [
            "\n",
            "Step: 135 \t Loss : 0.0077291312627494335 \t Time : 0.29055248498916625 mins\n",
            "\n"
          ]
        },
        {
          "output_type": "stream",
          "name": "stderr",
          "text": [
            "Step: 140 | Loss: 0.007729:   7%|▋         | 141/2000 [16:42<1:45:51,  3.42s/it]"
          ]
        },
        {
          "output_type": "stream",
          "name": "stdout",
          "text": [
            "\n",
            "Step: 140 \t Loss : 0.0077291312627494335 \t Time : 0.2763128678003947 mins\n",
            "\n"
          ]
        },
        {
          "output_type": "stream",
          "name": "stderr",
          "text": [
            "Step: 145 | Loss: 0.007729:   7%|▋         | 146/2000 [16:58<1:42:55,  3.33s/it]"
          ]
        },
        {
          "output_type": "stream",
          "name": "stdout",
          "text": [
            "\n",
            "Step: 145 \t Loss : 0.0077291312627494335 \t Time : 0.275332510471344 mins\n",
            "\n"
          ]
        },
        {
          "output_type": "stream",
          "name": "stderr",
          "text": [
            "Step: 150 | Loss: 0.007729:   8%|▊         | 151/2000 [17:16<1:50:57,  3.60s/it]"
          ]
        },
        {
          "output_type": "stream",
          "name": "stdout",
          "text": [
            "\n",
            "Step: 150 \t Loss : 0.0077291312627494335 \t Time : 0.29014331897099815 mins\n",
            "\n"
          ]
        },
        {
          "output_type": "stream",
          "name": "stderr",
          "text": [
            "Step: 155 | Loss: 0.007729:   8%|▊         | 156/2000 [17:34<1:50:03,  3.58s/it]"
          ]
        },
        {
          "output_type": "stream",
          "name": "stdout",
          "text": [
            "\n",
            "Step: 155 \t Loss : 0.0077291312627494335 \t Time : 0.30224045117696124 mins\n",
            "\n"
          ]
        },
        {
          "output_type": "stream",
          "name": "stderr",
          "text": [
            "Step: 160 | Loss: 0.007729:   8%|▊         | 161/2000 [17:50<1:44:40,  3.42s/it]"
          ]
        },
        {
          "output_type": "stream",
          "name": "stdout",
          "text": [
            "\n",
            "Step: 160 \t Loss : 0.0077291312627494335 \t Time : 0.27516173919041953 mins\n",
            "\n"
          ]
        },
        {
          "output_type": "stream",
          "name": "stderr",
          "text": [
            "Step: 165 | Loss: 0.007729:   8%|▊         | 166/2000 [18:07<1:42:04,  3.34s/it]"
          ]
        },
        {
          "output_type": "stream",
          "name": "stdout",
          "text": [
            "\n",
            "Step: 165 \t Loss : 0.0077291312627494335 \t Time : 0.2770837783813477 mins\n",
            "\n"
          ]
        },
        {
          "output_type": "stream",
          "name": "stderr",
          "text": [
            "Step: 170 | Loss: 0.007729:   9%|▊         | 171/2000 [18:25<1:50:22,  3.62s/it]"
          ]
        },
        {
          "output_type": "stream",
          "name": "stdout",
          "text": [
            "\n",
            "Step: 170 \t Loss : 0.0077291312627494335 \t Time : 0.291944682598114 mins\n",
            "\n"
          ]
        },
        {
          "output_type": "stream",
          "name": "stderr",
          "text": [
            "Step: 175 | Loss: 0.007729:   9%|▉         | 176/2000 [18:42<1:47:16,  3.53s/it]"
          ]
        },
        {
          "output_type": "stream",
          "name": "stdout",
          "text": [
            "\n",
            "Step: 175 \t Loss : 0.0077291312627494335 \t Time : 0.28481101989746094 mins\n",
            "\n"
          ]
        },
        {
          "output_type": "stream",
          "name": "stderr",
          "text": [
            "Step: 180 | Loss: 0.007729:   9%|▉         | 181/2000 [18:59<1:45:20,  3.47s/it]"
          ]
        },
        {
          "output_type": "stream",
          "name": "stdout",
          "text": [
            "\n",
            "Step: 180 \t Loss : 0.0077291312627494335 \t Time : 0.2848047653834025 mins\n",
            "\n"
          ]
        },
        {
          "output_type": "stream",
          "name": "stderr",
          "text": [
            "Step: 185 | Loss: 0.007729:   9%|▉         | 186/2000 [19:16<1:45:19,  3.48s/it]"
          ]
        },
        {
          "output_type": "stream",
          "name": "stdout",
          "text": [
            "\n",
            "Step: 185 \t Loss : 0.0077291312627494335 \t Time : 0.28585678736368814 mins\n",
            "\n"
          ]
        },
        {
          "output_type": "stream",
          "name": "stderr",
          "text": [
            "Step: 190 | Loss: 0.007729:  10%|▉         | 191/2000 [19:34<1:50:03,  3.65s/it]"
          ]
        },
        {
          "output_type": "stream",
          "name": "stdout",
          "text": [
            "\n",
            "Step: 190 \t Loss : 0.0077291312627494335 \t Time : 0.30011863708496095 mins\n",
            "\n"
          ]
        },
        {
          "output_type": "stream",
          "name": "stderr",
          "text": [
            "Step: 195 | Loss: 0.007729:  10%|▉         | 196/2000 [19:51<1:44:39,  3.48s/it]"
          ]
        },
        {
          "output_type": "stream",
          "name": "stdout",
          "text": [
            "\n",
            "Step: 195 \t Loss : 0.0077291312627494335 \t Time : 0.27948278983434044 mins\n",
            "\n"
          ]
        },
        {
          "output_type": "stream",
          "name": "stderr",
          "text": [
            "Step: 200 | Loss: 0.007729:  10%|█         | 201/2000 [20:07<1:41:39,  3.39s/it]"
          ]
        },
        {
          "output_type": "stream",
          "name": "stdout",
          "text": [
            "\n",
            "Step: 200 \t Loss : 0.0077291312627494335 \t Time : 0.2799313187599182 mins\n",
            "\n",
            "save this model to /content/drive/MyDrive/pikan results/run1/ckpt200\n"
          ]
        },
        {
          "output_type": "stream",
          "name": "stderr",
          "text": [
            "Step: 205 | Loss: 0.007729:  10%|█         | 206/2000 [20:25<1:48:59,  3.65s/it]"
          ]
        },
        {
          "output_type": "stream",
          "name": "stdout",
          "text": [
            "\n",
            "Step: 205 \t Loss : 0.0077291312627494335 \t Time : 0.2950986663500468 mins\n",
            "\n"
          ]
        },
        {
          "output_type": "stream",
          "name": "stderr",
          "text": [
            "Step: 210 | Loss: 0.007729:  11%|█         | 211/2000 [20:44<1:56:29,  3.91s/it]"
          ]
        },
        {
          "output_type": "stream",
          "name": "stdout",
          "text": [
            "\n",
            "Step: 210 \t Loss : 0.0077291312627494335 \t Time : 0.3068492293357849 mins\n",
            "\n"
          ]
        },
        {
          "output_type": "stream",
          "name": "stderr",
          "text": [
            "Step: 215 | Loss: 0.007729:  11%|█         | 216/2000 [21:01<1:45:48,  3.56s/it]"
          ]
        },
        {
          "output_type": "stream",
          "name": "stdout",
          "text": [
            "\n",
            "Step: 215 \t Loss : 0.0077291312627494335 \t Time : 0.2872496724128723 mins\n",
            "\n"
          ]
        },
        {
          "output_type": "stream",
          "name": "stderr",
          "text": [
            "Step: 220 | Loss: 0.007729:  11%|█         | 221/2000 [21:18<1:47:10,  3.61s/it]"
          ]
        },
        {
          "output_type": "stream",
          "name": "stdout",
          "text": [
            "\n",
            "Step: 220 \t Loss : 0.0077291312627494335 \t Time : 0.2911481261253357 mins\n",
            "\n"
          ]
        },
        {
          "output_type": "stream",
          "name": "stderr",
          "text": [
            "Step: 225 | Loss: 0.007729:  11%|█▏        | 226/2000 [21:36<1:45:36,  3.57s/it]"
          ]
        },
        {
          "output_type": "stream",
          "name": "stdout",
          "text": [
            "\n",
            "Step: 225 \t Loss : 0.0077291312627494335 \t Time : 0.29117320775985717 mins\n",
            "\n"
          ]
        },
        {
          "output_type": "stream",
          "name": "stderr",
          "text": [
            "Step: 230 | Loss: 0.007729:  12%|█▏        | 231/2000 [21:53<1:42:31,  3.48s/it]"
          ]
        },
        {
          "output_type": "stream",
          "name": "stdout",
          "text": [
            "\n",
            "Step: 230 \t Loss : 0.0077291312627494335 \t Time : 0.2846285025278727 mins\n",
            "\n"
          ]
        },
        {
          "output_type": "stream",
          "name": "stderr",
          "text": [
            "Step: 235 | Loss: 0.007729:  12%|█▏        | 236/2000 [22:10<1:40:57,  3.43s/it]"
          ]
        },
        {
          "output_type": "stream",
          "name": "stdout",
          "text": [
            "\n",
            "Step: 235 \t Loss : 0.0077291312627494335 \t Time : 0.28325873215993247 mins\n",
            "\n"
          ]
        },
        {
          "output_type": "stream",
          "name": "stderr",
          "text": [
            "Step: 240 | Loss: 0.007729:  12%|█▏        | 241/2000 [22:27<1:45:07,  3.59s/it]"
          ]
        },
        {
          "output_type": "stream",
          "name": "stdout",
          "text": [
            "\n",
            "Step: 240 \t Loss : 0.0077291312627494335 \t Time : 0.2942086617151896 mins\n",
            "\n"
          ]
        },
        {
          "output_type": "stream",
          "name": "stderr",
          "text": [
            "Step: 245 | Loss: 0.007729:  12%|█▏        | 246/2000 [22:44<1:40:44,  3.45s/it]"
          ]
        },
        {
          "output_type": "stream",
          "name": "stdout",
          "text": [
            "\n",
            "Step: 245 \t Loss : 0.0077291312627494335 \t Time : 0.27613795598347984 mins\n",
            "\n"
          ]
        },
        {
          "output_type": "stream",
          "name": "stderr",
          "text": [
            "Step: 250 | Loss: 0.007729:  13%|█▎        | 251/2000 [23:01<1:38:42,  3.39s/it]"
          ]
        },
        {
          "output_type": "stream",
          "name": "stdout",
          "text": [
            "\n",
            "Step: 250 \t Loss : 0.0077291312627494335 \t Time : 0.2787204186121623 mins\n",
            "\n"
          ]
        },
        {
          "output_type": "stream",
          "name": "stderr",
          "text": [
            "Step: 255 | Loss: 0.007729:  13%|█▎        | 256/2000 [23:18<1:40:47,  3.47s/it]"
          ]
        },
        {
          "output_type": "stream",
          "name": "stdout",
          "text": [
            "\n",
            "Step: 255 \t Loss : 0.0077291312627494335 \t Time : 0.28379860719045 mins\n",
            "\n"
          ]
        },
        {
          "output_type": "stream",
          "name": "stderr",
          "text": [
            "Step: 260 | Loss: 0.007729:  13%|█▎        | 261/2000 [23:35<1:45:35,  3.64s/it]"
          ]
        },
        {
          "output_type": "stream",
          "name": "stdout",
          "text": [
            "\n",
            "Step: 260 \t Loss : 0.0077291312627494335 \t Time : 0.29541210730870565 mins\n",
            "\n"
          ]
        },
        {
          "output_type": "stream",
          "name": "stderr",
          "text": [
            "Step: 265 | Loss: 0.007729:  13%|█▎        | 266/2000 [23:52<1:40:11,  3.47s/it]"
          ]
        },
        {
          "output_type": "stream",
          "name": "stdout",
          "text": [
            "\n",
            "Step: 265 \t Loss : 0.0077291312627494335 \t Time : 0.2781307458877563 mins\n",
            "\n"
          ]
        },
        {
          "output_type": "stream",
          "name": "stderr",
          "text": [
            "Step: 270 | Loss: 0.007729:  14%|█▎        | 271/2000 [24:10<1:46:51,  3.71s/it]"
          ]
        },
        {
          "output_type": "stream",
          "name": "stdout",
          "text": [
            "\n",
            "Step: 270 \t Loss : 0.0077291312627494335 \t Time : 0.2965966780980428 mins\n",
            "\n"
          ]
        },
        {
          "output_type": "stream",
          "name": "stderr",
          "text": [
            "Step: 275 | Loss: 0.007729:  14%|█▍        | 276/2000 [24:28<1:46:04,  3.69s/it]"
          ]
        },
        {
          "output_type": "stream",
          "name": "stdout",
          "text": [
            "\n",
            "Step: 275 \t Loss : 0.0077291312627494335 \t Time : 0.29776105483373005 mins\n",
            "\n"
          ]
        },
        {
          "output_type": "stream",
          "name": "stderr",
          "text": [
            "Step: 280 | Loss: 0.007729:  14%|█▍        | 281/2000 [24:45<1:40:42,  3.52s/it]"
          ]
        },
        {
          "output_type": "stream",
          "name": "stdout",
          "text": [
            "\n",
            "Step: 280 \t Loss : 0.0077291312627494335 \t Time : 0.27803070545196534 mins\n",
            "\n"
          ]
        },
        {
          "output_type": "stream",
          "name": "stderr",
          "text": [
            "Step: 285 | Loss: 0.007729:  14%|█▍        | 286/2000 [25:01<1:37:31,  3.41s/it]"
          ]
        },
        {
          "output_type": "stream",
          "name": "stdout",
          "text": [
            "\n",
            "Step: 285 \t Loss : 0.0077291312627494335 \t Time : 0.2805591622988383 mins\n",
            "\n"
          ]
        },
        {
          "output_type": "stream",
          "name": "stderr",
          "text": [
            "Step: 290 | Loss: 0.007729:  15%|█▍        | 291/2000 [25:18<1:38:12,  3.45s/it]"
          ]
        },
        {
          "output_type": "stream",
          "name": "stdout",
          "text": [
            "\n",
            "Step: 290 \t Loss : 0.0077291312627494335 \t Time : 0.28016111453374226 mins\n",
            "\n"
          ]
        },
        {
          "output_type": "stream",
          "name": "stderr",
          "text": [
            "Step: 295 | Loss: 0.007729:  15%|█▍        | 296/2000 [25:36<1:41:18,  3.57s/it]"
          ]
        },
        {
          "output_type": "stream",
          "name": "stdout",
          "text": [
            "\n",
            "Step: 295 \t Loss : 0.0077291312627494335 \t Time : 0.2939295768737793 mins\n",
            "\n"
          ]
        },
        {
          "output_type": "stream",
          "name": "stderr",
          "text": [
            "Step: 300 | Loss: 0.007729:  15%|█▌        | 301/2000 [25:52<1:37:31,  3.44s/it]"
          ]
        },
        {
          "output_type": "stream",
          "name": "stdout",
          "text": [
            "\n",
            "Step: 300 \t Loss : 0.0077291312627494335 \t Time : 0.27740684350331624 mins\n",
            "\n",
            "save this model to /content/drive/MyDrive/pikan results/run1/ckpt300\n"
          ]
        },
        {
          "output_type": "stream",
          "name": "stderr",
          "text": [
            "Step: 305 | Loss: 0.007729:  15%|█▌        | 306/2000 [26:09<1:35:18,  3.38s/it]"
          ]
        },
        {
          "output_type": "stream",
          "name": "stdout",
          "text": [
            "\n",
            "Step: 305 \t Loss : 0.0077291312627494335 \t Time : 0.2799492120742798 mins\n",
            "\n"
          ]
        },
        {
          "output_type": "stream",
          "name": "stderr",
          "text": [
            "Step: 310 | Loss: 0.007729:  16%|█▌        | 311/2000 [26:27<1:41:15,  3.60s/it]"
          ]
        },
        {
          "output_type": "stream",
          "name": "stdout",
          "text": [
            "\n",
            "Step: 310 \t Loss : 0.0077291312627494335 \t Time : 0.2902759035428365 mins\n",
            "\n"
          ]
        },
        {
          "output_type": "stream",
          "name": "stderr",
          "text": [
            "Step: 315 | Loss: 0.007729:  16%|█▌        | 316/2000 [26:44<1:38:46,  3.52s/it]"
          ]
        },
        {
          "output_type": "stream",
          "name": "stdout",
          "text": [
            "\n",
            "Step: 315 \t Loss : 0.0077291312627494335 \t Time : 0.2860658884048462 mins\n",
            "\n"
          ]
        },
        {
          "output_type": "stream",
          "name": "stderr",
          "text": [
            "Step: 320 | Loss: 0.007729:  16%|█▌        | 321/2000 [27:01<1:35:30,  3.41s/it]"
          ]
        },
        {
          "output_type": "stream",
          "name": "stdout",
          "text": [
            "\n",
            "Step: 320 \t Loss : 0.0077291312627494335 \t Time : 0.27864476839701335 mins\n",
            "\n"
          ]
        },
        {
          "output_type": "stream",
          "name": "stderr",
          "text": [
            "Step: 325 | Loss: 0.007729:  16%|█▋        | 326/2000 [27:20<1:51:43,  4.00s/it]"
          ]
        },
        {
          "output_type": "stream",
          "name": "stdout",
          "text": [
            "\n",
            "Step: 325 \t Loss : 0.0077291312627494335 \t Time : 0.31415069897969566 mins\n",
            "\n"
          ]
        },
        {
          "output_type": "stream",
          "name": "stderr",
          "text": [
            "Step: 330 | Loss: 0.007729:  17%|█▋        | 331/2000 [27:40<1:52:26,  4.04s/it]"
          ]
        },
        {
          "output_type": "stream",
          "name": "stdout",
          "text": [
            "\n",
            "Step: 330 \t Loss : 0.0077291312627494335 \t Time : 0.3413321614265442 mins\n",
            "\n"
          ]
        },
        {
          "output_type": "stream",
          "name": "stderr",
          "text": [
            "Step: 335 | Loss: 0.007729:  17%|█▋        | 336/2000 [27:57<1:37:49,  3.53s/it]"
          ]
        },
        {
          "output_type": "stream",
          "name": "stdout",
          "text": [
            "\n",
            "Step: 335 \t Loss : 0.0077291312627494335 \t Time : 0.2805215001106262 mins\n",
            "\n"
          ]
        },
        {
          "output_type": "stream",
          "name": "stderr",
          "text": [
            "Step: 340 | Loss: 0.007729:  17%|█▋        | 341/2000 [28:24<2:04:27,  4.50s/it]"
          ]
        },
        {
          "output_type": "stream",
          "name": "stdout",
          "text": [
            "\n",
            "Step: 340 \t Loss : 0.0077291312627494335 \t Time : 0.46082253058751427 mins\n",
            "\n"
          ]
        },
        {
          "output_type": "stream",
          "name": "stderr",
          "text": [
            "Step: 345 | Loss: 0.007729:  17%|█▋        | 346/2000 [28:41<1:37:19,  3.53s/it]"
          ]
        },
        {
          "output_type": "stream",
          "name": "stdout",
          "text": [
            "\n",
            "Step: 345 \t Loss : 0.0077291312627494335 \t Time : 0.2788846214612325 mins\n",
            "\n"
          ]
        },
        {
          "output_type": "stream",
          "name": "stderr",
          "text": [
            "Step: 350 | Loss: 0.007729:  18%|█▊        | 351/2000 [28:59<1:42:09,  3.72s/it]"
          ]
        },
        {
          "output_type": "stream",
          "name": "stdout",
          "text": [
            "\n",
            "Step: 350 \t Loss : 0.0077291312627494335 \t Time : 0.29707918961842855 mins\n",
            "\n"
          ]
        },
        {
          "output_type": "stream",
          "name": "stderr",
          "text": [
            "Step: 355 | Loss: 0.007729:  18%|█▊        | 356/2000 [29:16<1:36:25,  3.52s/it]"
          ]
        },
        {
          "output_type": "stream",
          "name": "stdout",
          "text": [
            "\n",
            "Step: 355 \t Loss : 0.0077291312627494335 \t Time : 0.28037299315134684 mins\n",
            "\n"
          ]
        },
        {
          "output_type": "stream",
          "name": "stderr",
          "text": [
            "Step: 355 | Loss: 0.007729:  18%|█▊        | 357/2000 [29:20<2:15:04,  4.93s/it]\n"
          ]
        },
        {
          "output_type": "error",
          "ename": "KeyboardInterrupt",
          "evalue": "",
          "traceback": [
            "\u001b[0;31m---------------------------------------------------------------------------\u001b[0m",
            "\u001b[0;31mKeyboardInterrupt\u001b[0m                         Traceback (most recent call last)",
            "\u001b[0;32m<ipython-input-30-ed201b7be417>\u001b[0m in \u001b[0;36m<cell line: 111>\u001b[0;34m()\u001b[0m\n\u001b[1;32m    109\u001b[0m         \u001b[0mmodel\u001b[0m\u001b[0;34m.\u001b[0m\u001b[0msave_ckpt\u001b[0m\u001b[0;34m(\u001b[0m\u001b[0;34mf'ckpt{step}'\u001b[0m\u001b[0;34m,\u001b[0m\u001b[0;34m\"/content/drive/MyDrive/pikan results/run1\"\u001b[0m \u001b[0;34m)\u001b[0m\u001b[0;34m\u001b[0m\u001b[0;34m\u001b[0m\u001b[0m\n\u001b[1;32m    110\u001b[0m \u001b[0;34m\u001b[0m\u001b[0m\n\u001b[0;32m--> 111\u001b[0;31m \u001b[0mtrain\u001b[0m\u001b[0;34m(\u001b[0m\u001b[0;34m)\u001b[0m\u001b[0;34m\u001b[0m\u001b[0;34m\u001b[0m\u001b[0m\n\u001b[0m\u001b[1;32m    112\u001b[0m \u001b[0;34m\u001b[0m\u001b[0m\n\u001b[1;32m    113\u001b[0m \u001b[0mwriter\u001b[0m\u001b[0;34m.\u001b[0m\u001b[0mclose\u001b[0m\u001b[0;34m(\u001b[0m\u001b[0;34m)\u001b[0m\u001b[0;34m\u001b[0m\u001b[0;34m\u001b[0m\u001b[0m\n",
            "\u001b[0;32m<ipython-input-30-ed201b7be417>\u001b[0m in \u001b[0;36mtrain\u001b[0;34m(model)\u001b[0m\n\u001b[1;32m     90\u001b[0m         \u001b[0;32mreturn\u001b[0m \u001b[0mloss\u001b[0m\u001b[0;34m\u001b[0m\u001b[0;34m\u001b[0m\u001b[0m\n\u001b[1;32m     91\u001b[0m \u001b[0;34m\u001b[0m\u001b[0m\n\u001b[0;32m---> 92\u001b[0;31m       \u001b[0moptimizer\u001b[0m\u001b[0;34m.\u001b[0m\u001b[0mstep\u001b[0m\u001b[0;34m(\u001b[0m\u001b[0mclosure\u001b[0m\u001b[0;34m)\u001b[0m\u001b[0;34m\u001b[0m\u001b[0;34m\u001b[0m\u001b[0m\n\u001b[0m\u001b[1;32m     93\u001b[0m       \u001b[0;32mif\u001b[0m \u001b[0mstep\u001b[0m \u001b[0;34m%\u001b[0m \u001b[0;36m5\u001b[0m \u001b[0;34m==\u001b[0m \u001b[0;36m0\u001b[0m\u001b[0;34m:\u001b[0m\u001b[0;34m\u001b[0m\u001b[0;34m\u001b[0m\u001b[0m\n\u001b[1;32m     94\u001b[0m         \u001b[0mcurr\u001b[0m \u001b[0;34m=\u001b[0m \u001b[0mtime\u001b[0m\u001b[0;34m.\u001b[0m\u001b[0mtime\u001b[0m\u001b[0;34m(\u001b[0m\u001b[0;34m)\u001b[0m\u001b[0;34m\u001b[0m\u001b[0;34m\u001b[0m\u001b[0m\n",
            "\u001b[0;32m/usr/local/lib/python3.10/dist-packages/torch/optim/optimizer.py\u001b[0m in \u001b[0;36mwrapper\u001b[0;34m(*args, **kwargs)\u001b[0m\n\u001b[1;32m    389\u001b[0m                             )\n\u001b[1;32m    390\u001b[0m \u001b[0;34m\u001b[0m\u001b[0m\n\u001b[0;32m--> 391\u001b[0;31m                 \u001b[0mout\u001b[0m \u001b[0;34m=\u001b[0m \u001b[0mfunc\u001b[0m\u001b[0;34m(\u001b[0m\u001b[0;34m*\u001b[0m\u001b[0margs\u001b[0m\u001b[0;34m,\u001b[0m \u001b[0;34m**\u001b[0m\u001b[0mkwargs\u001b[0m\u001b[0;34m)\u001b[0m\u001b[0;34m\u001b[0m\u001b[0;34m\u001b[0m\u001b[0m\n\u001b[0m\u001b[1;32m    392\u001b[0m                 \u001b[0mself\u001b[0m\u001b[0;34m.\u001b[0m\u001b[0m_optimizer_step_code\u001b[0m\u001b[0;34m(\u001b[0m\u001b[0;34m)\u001b[0m\u001b[0;34m\u001b[0m\u001b[0;34m\u001b[0m\u001b[0m\n\u001b[1;32m    393\u001b[0m \u001b[0;34m\u001b[0m\u001b[0m\n",
            "\u001b[0;32m/usr/local/lib/python3.10/dist-packages/torch/utils/_contextlib.py\u001b[0m in \u001b[0;36mdecorate_context\u001b[0;34m(*args, **kwargs)\u001b[0m\n\u001b[1;32m    113\u001b[0m     \u001b[0;32mdef\u001b[0m \u001b[0mdecorate_context\u001b[0m\u001b[0;34m(\u001b[0m\u001b[0;34m*\u001b[0m\u001b[0margs\u001b[0m\u001b[0;34m,\u001b[0m \u001b[0;34m**\u001b[0m\u001b[0mkwargs\u001b[0m\u001b[0;34m)\u001b[0m\u001b[0;34m:\u001b[0m\u001b[0;34m\u001b[0m\u001b[0;34m\u001b[0m\u001b[0m\n\u001b[1;32m    114\u001b[0m         \u001b[0;32mwith\u001b[0m \u001b[0mctx_factory\u001b[0m\u001b[0;34m(\u001b[0m\u001b[0;34m)\u001b[0m\u001b[0;34m:\u001b[0m\u001b[0;34m\u001b[0m\u001b[0;34m\u001b[0m\u001b[0m\n\u001b[0;32m--> 115\u001b[0;31m             \u001b[0;32mreturn\u001b[0m \u001b[0mfunc\u001b[0m\u001b[0;34m(\u001b[0m\u001b[0;34m*\u001b[0m\u001b[0margs\u001b[0m\u001b[0;34m,\u001b[0m \u001b[0;34m**\u001b[0m\u001b[0mkwargs\u001b[0m\u001b[0;34m)\u001b[0m\u001b[0;34m\u001b[0m\u001b[0;34m\u001b[0m\u001b[0m\n\u001b[0m\u001b[1;32m    116\u001b[0m \u001b[0;34m\u001b[0m\u001b[0m\n\u001b[1;32m    117\u001b[0m     \u001b[0;32mreturn\u001b[0m \u001b[0mdecorate_context\u001b[0m\u001b[0;34m\u001b[0m\u001b[0;34m\u001b[0m\u001b[0m\n",
            "\u001b[0;32m/usr/local/lib/python3.10/dist-packages/kan/LBFGS.py\u001b[0m in \u001b[0;36mstep\u001b[0;34m(self, closure)\u001b[0m\n\u001b[1;32m    431\u001b[0m                         \u001b[0;32mreturn\u001b[0m \u001b[0mself\u001b[0m\u001b[0;34m.\u001b[0m\u001b[0m_directional_evaluate\u001b[0m\u001b[0;34m(\u001b[0m\u001b[0mclosure\u001b[0m\u001b[0;34m,\u001b[0m \u001b[0mx\u001b[0m\u001b[0;34m,\u001b[0m \u001b[0mt\u001b[0m\u001b[0;34m,\u001b[0m \u001b[0md\u001b[0m\u001b[0;34m)\u001b[0m\u001b[0;34m\u001b[0m\u001b[0;34m\u001b[0m\u001b[0m\n\u001b[1;32m    432\u001b[0m \u001b[0;34m\u001b[0m\u001b[0m\n\u001b[0;32m--> 433\u001b[0;31m                     loss, flat_grad, t, ls_func_evals = _strong_wolfe(\n\u001b[0m\u001b[1;32m    434\u001b[0m                         obj_func, x_init, t, d, loss, flat_grad, gtd)\n\u001b[1;32m    435\u001b[0m                 \u001b[0mself\u001b[0m\u001b[0;34m.\u001b[0m\u001b[0m_add_grad\u001b[0m\u001b[0;34m(\u001b[0m\u001b[0mt\u001b[0m\u001b[0;34m,\u001b[0m \u001b[0md\u001b[0m\u001b[0;34m)\u001b[0m\u001b[0;34m\u001b[0m\u001b[0;34m\u001b[0m\u001b[0m\n",
            "\u001b[0;32m/usr/local/lib/python3.10/dist-packages/kan/LBFGS.py\u001b[0m in \u001b[0;36m_strong_wolfe\u001b[0;34m(obj_func, x, t, d, f, g, gtd, c1, c2, tolerance_change, max_ls)\u001b[0m\n\u001b[1;32m    146\u001b[0m \u001b[0;34m\u001b[0m\u001b[0m\n\u001b[1;32m    147\u001b[0m         \u001b[0;31m# Evaluate new point\u001b[0m\u001b[0;34m\u001b[0m\u001b[0;34m\u001b[0m\u001b[0m\n\u001b[0;32m--> 148\u001b[0;31m         \u001b[0mf_new\u001b[0m\u001b[0;34m,\u001b[0m \u001b[0mg_new\u001b[0m \u001b[0;34m=\u001b[0m \u001b[0mobj_func\u001b[0m\u001b[0;34m(\u001b[0m\u001b[0mx\u001b[0m\u001b[0;34m,\u001b[0m \u001b[0mt\u001b[0m\u001b[0;34m,\u001b[0m \u001b[0md\u001b[0m\u001b[0;34m)\u001b[0m\u001b[0;34m\u001b[0m\u001b[0;34m\u001b[0m\u001b[0m\n\u001b[0m\u001b[1;32m    149\u001b[0m         \u001b[0mls_func_evals\u001b[0m \u001b[0;34m+=\u001b[0m \u001b[0;36m1\u001b[0m\u001b[0;34m\u001b[0m\u001b[0;34m\u001b[0m\u001b[0m\n\u001b[1;32m    150\u001b[0m         \u001b[0mgtd_new\u001b[0m \u001b[0;34m=\u001b[0m \u001b[0mg_new\u001b[0m\u001b[0;34m.\u001b[0m\u001b[0mdot\u001b[0m\u001b[0;34m(\u001b[0m\u001b[0md\u001b[0m\u001b[0;34m)\u001b[0m\u001b[0;34m\u001b[0m\u001b[0;34m\u001b[0m\u001b[0m\n",
            "\u001b[0;32m/usr/local/lib/python3.10/dist-packages/kan/LBFGS.py\u001b[0m in \u001b[0;36mobj_func\u001b[0;34m(x, t, d)\u001b[0m\n\u001b[1;32m    429\u001b[0m \u001b[0;34m\u001b[0m\u001b[0m\n\u001b[1;32m    430\u001b[0m                     \u001b[0;32mdef\u001b[0m \u001b[0mobj_func\u001b[0m\u001b[0;34m(\u001b[0m\u001b[0mx\u001b[0m\u001b[0;34m,\u001b[0m \u001b[0mt\u001b[0m\u001b[0;34m,\u001b[0m \u001b[0md\u001b[0m\u001b[0;34m)\u001b[0m\u001b[0;34m:\u001b[0m\u001b[0;34m\u001b[0m\u001b[0;34m\u001b[0m\u001b[0m\n\u001b[0;32m--> 431\u001b[0;31m                         \u001b[0;32mreturn\u001b[0m \u001b[0mself\u001b[0m\u001b[0;34m.\u001b[0m\u001b[0m_directional_evaluate\u001b[0m\u001b[0;34m(\u001b[0m\u001b[0mclosure\u001b[0m\u001b[0;34m,\u001b[0m \u001b[0mx\u001b[0m\u001b[0;34m,\u001b[0m \u001b[0mt\u001b[0m\u001b[0;34m,\u001b[0m \u001b[0md\u001b[0m\u001b[0;34m)\u001b[0m\u001b[0;34m\u001b[0m\u001b[0;34m\u001b[0m\u001b[0m\n\u001b[0m\u001b[1;32m    432\u001b[0m \u001b[0;34m\u001b[0m\u001b[0m\n\u001b[1;32m    433\u001b[0m                     loss, flat_grad, t, ls_func_evals = _strong_wolfe(\n",
            "\u001b[0;32m/usr/local/lib/python3.10/dist-packages/kan/LBFGS.py\u001b[0m in \u001b[0;36m_directional_evaluate\u001b[0;34m(self, closure, x, t, d)\u001b[0m\n\u001b[1;32m    281\u001b[0m     \u001b[0;32mdef\u001b[0m \u001b[0m_directional_evaluate\u001b[0m\u001b[0;34m(\u001b[0m\u001b[0mself\u001b[0m\u001b[0;34m,\u001b[0m \u001b[0mclosure\u001b[0m\u001b[0;34m,\u001b[0m \u001b[0mx\u001b[0m\u001b[0;34m,\u001b[0m \u001b[0mt\u001b[0m\u001b[0;34m,\u001b[0m \u001b[0md\u001b[0m\u001b[0;34m)\u001b[0m\u001b[0;34m:\u001b[0m\u001b[0;34m\u001b[0m\u001b[0;34m\u001b[0m\u001b[0m\n\u001b[1;32m    282\u001b[0m         \u001b[0mself\u001b[0m\u001b[0;34m.\u001b[0m\u001b[0m_add_grad\u001b[0m\u001b[0;34m(\u001b[0m\u001b[0mt\u001b[0m\u001b[0;34m,\u001b[0m \u001b[0md\u001b[0m\u001b[0;34m)\u001b[0m\u001b[0;34m\u001b[0m\u001b[0;34m\u001b[0m\u001b[0m\n\u001b[0;32m--> 283\u001b[0;31m         \u001b[0mloss\u001b[0m \u001b[0;34m=\u001b[0m \u001b[0mfloat\u001b[0m\u001b[0;34m(\u001b[0m\u001b[0mclosure\u001b[0m\u001b[0;34m(\u001b[0m\u001b[0;34m)\u001b[0m\u001b[0;34m)\u001b[0m\u001b[0;34m\u001b[0m\u001b[0;34m\u001b[0m\u001b[0m\n\u001b[0m\u001b[1;32m    284\u001b[0m         \u001b[0mflat_grad\u001b[0m \u001b[0;34m=\u001b[0m \u001b[0mself\u001b[0m\u001b[0;34m.\u001b[0m\u001b[0m_gather_flat_grad\u001b[0m\u001b[0;34m(\u001b[0m\u001b[0;34m)\u001b[0m\u001b[0;34m\u001b[0m\u001b[0;34m\u001b[0m\u001b[0m\n\u001b[1;32m    285\u001b[0m         \u001b[0mself\u001b[0m\u001b[0;34m.\u001b[0m\u001b[0m_set_param\u001b[0m\u001b[0;34m(\u001b[0m\u001b[0mx\u001b[0m\u001b[0;34m)\u001b[0m\u001b[0;34m\u001b[0m\u001b[0;34m\u001b[0m\u001b[0m\n",
            "\u001b[0;32m/usr/local/lib/python3.10/dist-packages/torch/utils/_contextlib.py\u001b[0m in \u001b[0;36mdecorate_context\u001b[0;34m(*args, **kwargs)\u001b[0m\n\u001b[1;32m    113\u001b[0m     \u001b[0;32mdef\u001b[0m \u001b[0mdecorate_context\u001b[0m\u001b[0;34m(\u001b[0m\u001b[0;34m*\u001b[0m\u001b[0margs\u001b[0m\u001b[0;34m,\u001b[0m \u001b[0;34m**\u001b[0m\u001b[0mkwargs\u001b[0m\u001b[0;34m)\u001b[0m\u001b[0;34m:\u001b[0m\u001b[0;34m\u001b[0m\u001b[0;34m\u001b[0m\u001b[0m\n\u001b[1;32m    114\u001b[0m         \u001b[0;32mwith\u001b[0m \u001b[0mctx_factory\u001b[0m\u001b[0;34m(\u001b[0m\u001b[0;34m)\u001b[0m\u001b[0;34m:\u001b[0m\u001b[0;34m\u001b[0m\u001b[0;34m\u001b[0m\u001b[0m\n\u001b[0;32m--> 115\u001b[0;31m             \u001b[0;32mreturn\u001b[0m \u001b[0mfunc\u001b[0m\u001b[0;34m(\u001b[0m\u001b[0;34m*\u001b[0m\u001b[0margs\u001b[0m\u001b[0;34m,\u001b[0m \u001b[0;34m**\u001b[0m\u001b[0mkwargs\u001b[0m\u001b[0;34m)\u001b[0m\u001b[0;34m\u001b[0m\u001b[0;34m\u001b[0m\u001b[0m\n\u001b[0m\u001b[1;32m    116\u001b[0m \u001b[0;34m\u001b[0m\u001b[0m\n\u001b[1;32m    117\u001b[0m     \u001b[0;32mreturn\u001b[0m \u001b[0mdecorate_context\u001b[0m\u001b[0;34m\u001b[0m\u001b[0;34m\u001b[0m\u001b[0m\n",
            "\u001b[0;32m<ipython-input-30-ed201b7be417>\u001b[0m in \u001b[0;36mclosure\u001b[0;34m()\u001b[0m\n\u001b[1;32m     86\u001b[0m       \u001b[0;32mdef\u001b[0m \u001b[0mclosure\u001b[0m\u001b[0;34m(\u001b[0m\u001b[0;34m)\u001b[0m\u001b[0;34m:\u001b[0m\u001b[0;34m\u001b[0m\u001b[0;34m\u001b[0m\u001b[0m\n\u001b[1;32m     87\u001b[0m         \u001b[0moptimizer\u001b[0m\u001b[0;34m.\u001b[0m\u001b[0mzero_grad\u001b[0m\u001b[0;34m(\u001b[0m\u001b[0;34m)\u001b[0m\u001b[0;34m\u001b[0m\u001b[0;34m\u001b[0m\u001b[0m\n\u001b[0;32m---> 88\u001b[0;31m         \u001b[0mloss\u001b[0m \u001b[0;34m=\u001b[0m \u001b[0mmotor_slot_residuals\u001b[0m\u001b[0;34m(\u001b[0m\u001b[0mcoordinates\u001b[0m\u001b[0;34m)\u001b[0m\u001b[0;34m\u001b[0m\u001b[0;34m\u001b[0m\u001b[0m\n\u001b[0m\u001b[1;32m     89\u001b[0m         \u001b[0mloss\u001b[0m\u001b[0;34m.\u001b[0m\u001b[0mbackward\u001b[0m\u001b[0;34m(\u001b[0m\u001b[0;34m)\u001b[0m\u001b[0;34m\u001b[0m\u001b[0;34m\u001b[0m\u001b[0m\n\u001b[1;32m     90\u001b[0m         \u001b[0;32mreturn\u001b[0m \u001b[0mloss\u001b[0m\u001b[0;34m\u001b[0m\u001b[0;34m\u001b[0m\u001b[0m\n",
            "\u001b[0;32m<ipython-input-30-ed201b7be417>\u001b[0m in \u001b[0;36mmotor_slot_residuals\u001b[0;34m(coords)\u001b[0m\n\u001b[1;32m     36\u001b[0m     \u001b[0my_pred\u001b[0m \u001b[0;34m=\u001b[0m \u001b[0mmodel\u001b[0m\u001b[0;34m(\u001b[0m\u001b[0mcoords\u001b[0m\u001b[0;34m)\u001b[0m\u001b[0;34m\u001b[0m\u001b[0;34m\u001b[0m\u001b[0m\n\u001b[1;32m     37\u001b[0m     \u001b[0mgrads\u001b[0m \u001b[0;34m=\u001b[0m \u001b[0mbatch_jacobian\u001b[0m\u001b[0;34m(\u001b[0m\u001b[0mmodel\u001b[0m\u001b[0;34m,\u001b[0m \u001b[0mcoords\u001b[0m\u001b[0;34m,\u001b[0m \u001b[0mcreate_graph\u001b[0m\u001b[0;34m=\u001b[0m\u001b[0;32mTrue\u001b[0m\u001b[0;34m)\u001b[0m\u001b[0;34m\u001b[0m\u001b[0;34m\u001b[0m\u001b[0m\n\u001b[0;32m---> 38\u001b[0;31m     \u001b[0mhessians\u001b[0m \u001b[0;34m=\u001b[0m \u001b[0mbatch_hessian\u001b[0m\u001b[0;34m(\u001b[0m\u001b[0mmodel\u001b[0m\u001b[0;34m,\u001b[0m \u001b[0mcoords\u001b[0m\u001b[0;34m)\u001b[0m\u001b[0;34m\u001b[0m\u001b[0;34m\u001b[0m\u001b[0m\n\u001b[0m\u001b[1;32m     39\u001b[0m \u001b[0;34m\u001b[0m\u001b[0m\n\u001b[1;32m     40\u001b[0m     \u001b[0mHx\u001b[0m\u001b[0;34m,\u001b[0m \u001b[0mHy\u001b[0m\u001b[0;34m,\u001b[0m \u001b[0mA\u001b[0m \u001b[0;34m=\u001b[0m \u001b[0my_pred\u001b[0m\u001b[0;34m[\u001b[0m\u001b[0;34m:\u001b[0m\u001b[0;34m,\u001b[0m \u001b[0;36m0\u001b[0m\u001b[0;34m]\u001b[0m\u001b[0;34m,\u001b[0m \u001b[0my_pred\u001b[0m\u001b[0;34m[\u001b[0m\u001b[0;34m:\u001b[0m\u001b[0;34m,\u001b[0m \u001b[0;36m1\u001b[0m\u001b[0;34m]\u001b[0m\u001b[0;34m,\u001b[0m \u001b[0my_pred\u001b[0m\u001b[0;34m[\u001b[0m\u001b[0;34m:\u001b[0m\u001b[0;34m,\u001b[0m \u001b[0;36m2\u001b[0m\u001b[0;34m]\u001b[0m\u001b[0;34m\u001b[0m\u001b[0;34m\u001b[0m\u001b[0m\n",
            "\u001b[0;32m<ipython-input-30-ed201b7be417>\u001b[0m in \u001b[0;36mbatch_hessian\u001b[0;34m(func, x)\u001b[0m\n\u001b[1;32m     28\u001b[0m     \u001b[0mhessians\u001b[0m \u001b[0;34m=\u001b[0m \u001b[0;34m[\u001b[0m\u001b[0;34m]\u001b[0m\u001b[0;34m\u001b[0m\u001b[0;34m\u001b[0m\u001b[0m\n\u001b[1;32m     29\u001b[0m     \u001b[0;32mfor\u001b[0m \u001b[0mi\u001b[0m \u001b[0;32min\u001b[0m \u001b[0mrange\u001b[0m\u001b[0;34m(\u001b[0m\u001b[0mjacobian\u001b[0m\u001b[0;34m.\u001b[0m\u001b[0msize\u001b[0m\u001b[0;34m(\u001b[0m\u001b[0;36m1\u001b[0m\u001b[0;34m)\u001b[0m\u001b[0;34m)\u001b[0m\u001b[0;34m:\u001b[0m\u001b[0;34m\u001b[0m\u001b[0;34m\u001b[0m\u001b[0m\n\u001b[0;32m---> 30\u001b[0;31m         \u001b[0mgrad\u001b[0m \u001b[0;34m=\u001b[0m \u001b[0mautograd\u001b[0m\u001b[0;34m.\u001b[0m\u001b[0mgrad\u001b[0m\u001b[0;34m(\u001b[0m\u001b[0mjacobian\u001b[0m\u001b[0;34m[\u001b[0m\u001b[0;34m:\u001b[0m\u001b[0;34m,\u001b[0m \u001b[0mi\u001b[0m\u001b[0;34m]\u001b[0m\u001b[0;34m.\u001b[0m\u001b[0msum\u001b[0m\u001b[0;34m(\u001b[0m\u001b[0;34m)\u001b[0m\u001b[0;34m,\u001b[0m \u001b[0mx\u001b[0m\u001b[0;34m,\u001b[0m \u001b[0mcreate_graph\u001b[0m\u001b[0;34m=\u001b[0m\u001b[0;32mTrue\u001b[0m\u001b[0;34m,\u001b[0m \u001b[0mretain_graph\u001b[0m\u001b[0;34m=\u001b[0m\u001b[0;32mTrue\u001b[0m\u001b[0;34m)\u001b[0m\u001b[0;34m[\u001b[0m\u001b[0;36m0\u001b[0m\u001b[0;34m]\u001b[0m\u001b[0;34m\u001b[0m\u001b[0;34m\u001b[0m\u001b[0m\n\u001b[0m\u001b[1;32m     31\u001b[0m         \u001b[0mhessians\u001b[0m\u001b[0;34m.\u001b[0m\u001b[0mappend\u001b[0m\u001b[0;34m(\u001b[0m\u001b[0mgrad\u001b[0m\u001b[0;34m.\u001b[0m\u001b[0munsqueeze\u001b[0m\u001b[0;34m(\u001b[0m\u001b[0;36m1\u001b[0m\u001b[0;34m)\u001b[0m\u001b[0;34m)\u001b[0m\u001b[0;34m\u001b[0m\u001b[0;34m\u001b[0m\u001b[0m\n\u001b[1;32m     32\u001b[0m     \u001b[0;32mreturn\u001b[0m \u001b[0mtorch\u001b[0m\u001b[0;34m.\u001b[0m\u001b[0mcat\u001b[0m\u001b[0;34m(\u001b[0m\u001b[0mhessians\u001b[0m\u001b[0;34m,\u001b[0m \u001b[0mdim\u001b[0m\u001b[0;34m=\u001b[0m\u001b[0;36m1\u001b[0m\u001b[0;34m)\u001b[0m\u001b[0;34m\u001b[0m\u001b[0;34m\u001b[0m\u001b[0m\n",
            "\u001b[0;32m/usr/local/lib/python3.10/dist-packages/torch/autograd/__init__.py\u001b[0m in \u001b[0;36mgrad\u001b[0;34m(outputs, inputs, grad_outputs, retain_graph, create_graph, only_inputs, allow_unused, is_grads_batched, materialize_grads)\u001b[0m\n\u001b[1;32m    410\u001b[0m         )\n\u001b[1;32m    411\u001b[0m     \u001b[0;32melse\u001b[0m\u001b[0;34m:\u001b[0m\u001b[0;34m\u001b[0m\u001b[0;34m\u001b[0m\u001b[0m\n\u001b[0;32m--> 412\u001b[0;31m         result = _engine_run_backward(\n\u001b[0m\u001b[1;32m    413\u001b[0m             \u001b[0mt_outputs\u001b[0m\u001b[0;34m,\u001b[0m\u001b[0;34m\u001b[0m\u001b[0;34m\u001b[0m\u001b[0m\n\u001b[1;32m    414\u001b[0m             \u001b[0mgrad_outputs_\u001b[0m\u001b[0;34m,\u001b[0m\u001b[0;34m\u001b[0m\u001b[0;34m\u001b[0m\u001b[0m\n",
            "\u001b[0;32m/usr/local/lib/python3.10/dist-packages/torch/autograd/graph.py\u001b[0m in \u001b[0;36m_engine_run_backward\u001b[0;34m(t_outputs, *args, **kwargs)\u001b[0m\n\u001b[1;32m    742\u001b[0m         \u001b[0munregister_hooks\u001b[0m \u001b[0;34m=\u001b[0m \u001b[0m_register_logging_hooks_on_whole_graph\u001b[0m\u001b[0;34m(\u001b[0m\u001b[0mt_outputs\u001b[0m\u001b[0;34m)\u001b[0m\u001b[0;34m\u001b[0m\u001b[0;34m\u001b[0m\u001b[0m\n\u001b[1;32m    743\u001b[0m     \u001b[0;32mtry\u001b[0m\u001b[0;34m:\u001b[0m\u001b[0;34m\u001b[0m\u001b[0;34m\u001b[0m\u001b[0m\n\u001b[0;32m--> 744\u001b[0;31m         return Variable._execution_engine.run_backward(  # Calls into the C++ engine to run the backward pass\n\u001b[0m\u001b[1;32m    745\u001b[0m             \u001b[0mt_outputs\u001b[0m\u001b[0;34m,\u001b[0m \u001b[0;34m*\u001b[0m\u001b[0margs\u001b[0m\u001b[0;34m,\u001b[0m \u001b[0;34m**\u001b[0m\u001b[0mkwargs\u001b[0m\u001b[0;34m\u001b[0m\u001b[0;34m\u001b[0m\u001b[0m\n\u001b[1;32m    746\u001b[0m         )  # Calls into the C++ engine to run the backward pass\n",
            "\u001b[0;31mKeyboardInterrupt\u001b[0m: "
          ]
        }
      ]
    },
    {
      "cell_type": "code",
      "source": [
        "model.plot(beta=10)"
      ],
      "metadata": {
        "trusted": true,
        "id": "bgEGMacxRdEH",
        "colab": {
          "base_uri": "https://localhost:8080/",
          "height": 499
        },
        "outputId": "fe8bd28c-7a8d-4b39-bb3b-c91918f86abb"
      },
      "execution_count": null,
      "outputs": [
        {
          "output_type": "display_data",
          "data": {
            "text/plain": [
              "<Figure size 500x600 with 25 Axes>"
            ],
            "image/png": "[encoded data removed]"
          },
          "metadata": {}
        }
      ]
    },
    {
      "cell_type": "code",
      "source": [
        "import os\n",
        "from tensorboard.backend.event_processing import event_accumulator\n",
        "\n",
        "# Locate the TensorBoard logs\n",
        "log_dir = \"/content/drive/MyDrive/pikan results/run1/runs\"\n",
        "\n",
        "def plot_tensorboard_log(log_dir):\n",
        "    # Find the latest log directory\n",
        "    latest_run = sorted(os.listdir(log_dir))[-1]\n",
        "    print(latest_run)\n",
        "    event_path = os.path.join(log_dir, latest_run)\n",
        "\n",
        "    # Load the event data\n",
        "    ea = event_accumulator.EventAccumulator(event_path)\n",
        "    ea.Reload()\n",
        "\n",
        "    # Extract loss values\n",
        "    loss_events = ea.Scalars('Loss-train')\n",
        "    steps = [event.step for event in loss_events]\n",
        "    losses = [event.value for event in loss_events]\n",
        "\n",
        "    # Plot the loss\n",
        "    plt.plot(steps, losses , label = \"Training Loss\")\n",
        "    plt.xlabel('Steps')\n",
        "    plt.ylabel('Loss')\n",
        "    plt.title('Training Loss over Time')\n",
        "    plt.legend()\n",
        "    plt.show()\n",
        "\n",
        "plot_tensorboard_log(log_dir)\n"
      ],
      "metadata": {
        "trusted": true,
        "id": "pcWy2Ht9RdEI",
        "colab": {
          "base_uri": "https://localhost:8080/",
          "height": 490
        },
        "outputId": "487f74da-e50d-4434-c376-2b9fa0d5f6d5"
      },
      "execution_count": null,
      "outputs": [
        {
          "output_type": "stream",
          "name": "stdout",
          "text": [
            "events.out.tfevents.1719511945.d490012490e6.216.14\n"
          ]
        },
        {
          "output_type": "display_data",
          "data": {
            "text/plain": [
              "<Figure size 640x480 with 1 Axes>"
            ],
            "image/png": "[encoded data removed]"
          },
          "metadata": {}
        }
      ]
    },
    {
      "cell_type": "code",
      "source": [
        "# coords = coordinates\n",
        "# coords = coords.clone().detach().requires_grad_(True).to(device)  # Ensure coords require grad\n",
        "# print(coords.device)\n",
        "# model = model.to(\"cuda\")\n",
        "# print(model.device)"
      ],
      "metadata": {
        "id": "QPpIz4EIRdEJ"
      },
      "execution_count": null,
      "outputs": []
    },
    {
      "cell_type": "code",
      "source": [
        "pred = model(coordinates)\n",
        "print(pred)"
      ],
      "metadata": {
        "id": "F0c598G7XqjW"
      },
      "execution_count": null,
      "outputs": []
    }
  ]
}